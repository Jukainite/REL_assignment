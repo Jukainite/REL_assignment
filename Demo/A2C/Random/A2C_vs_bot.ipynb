{
 "cells": [
  {
   "cell_type": "code",
   "execution_count": 5,
   "metadata": {},
   "outputs": [],
   "source": [
    "# imports\n",
    "\n",
    "import asyncio\n",
    "import json\n",
    "import os\n",
    "import matplotlib\n",
    "import neptune\n",
    "import nest_asyncio\n",
    "import numpy as np\n",
    "import pandas as pd\n",
    "import time\n",
    "\n",
    "from collections import defaultdict\n",
    "from datetime import date\n",
    "from itertools import product\n",
    "from matplotlib import pyplot\n",
    "from poke_env.environment.abstract_battle import AbstractBattle\n",
    "from poke_env.player.battle_order import ForfeitBattleOrder\n",
    "from poke_env.player.player import Player\n",
    "from scipy.interpolate import griddata\n",
    "from poke_env.player import Gen8EnvSinglePlayer, RandomPlayer\n",
    "from poke_env import AccountConfiguration, ShowdownServerConfiguration\n",
    "from poke_env.player import player as Sampleplayer\n",
    "# from src.PlayerQLearning import Player as PlayerQLearning\n",
    "import numpy as np\n",
    "from stable_baselines3 import A2C\n",
    "from gymnasium.spaces import Box\n",
    "from poke_env.data import GenData\n",
    "\n",
    "from poke_env.player import Gen9EnvSinglePlayer, RandomPlayer\n",
    "import os"
   ]
  },
  {
   "cell_type": "code",
   "execution_count": 6,
   "metadata": {},
   "outputs": [],
   "source": [
    "class SimpleRLPlayer(Gen9EnvSinglePlayer):\n",
    "    def embed_battle(self, battle):\n",
    "        # -1 indicates that the move does not have a base power\n",
    "        # or is not available\n",
    "        moves_base_power = -np.ones(4)\n",
    "        moves_dmg_multiplier = np.ones(4)\n",
    "        for i, move in enumerate(battle.available_moves):\n",
    "            moves_base_power[i] = (\n",
    "                    move.base_power / 100\n",
    "            )  # Simple rescaling to facilitate learning\n",
    "            if move.type:\n",
    "                moves_dmg_multiplier[i] = move.type.damage_multiplier(\n",
    "                    battle.opponent_active_pokemon.type_1,\n",
    "                    battle.opponent_active_pokemon.type_2,\n",
    "                    type_chart=GEN_9_DATA.type_chart\n",
    "                )\n",
    "\n",
    "        # We count how many pokemons have not fainted in each team\n",
    "        remaining_mon_team = (\n",
    "                len([mon for mon in battle.team.values() if mon.fainted]) / 6\n",
    "        )\n",
    "        remaining_mon_opponent = (\n",
    "                len([mon for mon in battle.opponent_team.values() if mon.fainted]) / 6\n",
    "        )\n",
    "\n",
    "        # Final vector with 10 components\n",
    "        return np.concatenate(\n",
    "            [\n",
    "                moves_base_power,\n",
    "                moves_dmg_multiplier,\n",
    "                [remaining_mon_team, remaining_mon_opponent],\n",
    "            ]\n",
    "        )\n",
    "\n",
    "    def calc_reward(self, last_state, current_state) -> float:\n",
    "        return self.reward_computing_helper(\n",
    "            current_state, fainted_value=2, hp_value=1, victory_value=30\n",
    "        )\n",
    "\n",
    "    def describe_embedding(self):\n",
    "        low = [-1, -1, -1, -1, 0, 0, 0, 0, 0, 0]\n",
    "        high = [3, 3, 3, 3, 4, 4, 4, 4, 1, 1]\n",
    "        return Box(\n",
    "            np.array(low, dtype=np.float32),\n",
    "            np.array(high, dtype=np.float32),\n",
    "            dtype=np.float32,\n",
    "        )\n",
    "\n",
    "\n",
    "class MaxDamagePlayer(RandomPlayer):\n",
    "    def choose_move(self, battle):\n",
    "        # If the player can attack, it will\n",
    "        if battle.available_moves:\n",
    "            # Finds the best move among available ones\n",
    "            best_move = max(battle.available_moves, key=lambda move: move.base_power)\n",
    "            return self.create_order(best_move)\n",
    "\n",
    "        # If no attack is available, a random switch will be made\n",
    "        else:\n",
    "            return self.choose_random_move(battle)"
   ]
  },
  {
   "cell_type": "code",
   "execution_count": 7,
   "metadata": {},
   "outputs": [],
   "source": [
    "NB_TRAINING_STEPS = 10000\n",
    "NB_EVALUATION_EPISODES = 10\n",
    "MODEL_PATH = \"a2c_pokemon_model\"\n",
    "\n",
    "np.random.seed(0)\n",
    "GEN_9_DATA = GenData.from_gen(9)"
   ]
  },
  {
   "cell_type": "code",
   "execution_count": 20,
   "metadata": {},
   "outputs": [
    {
     "name": "stdout",
     "output_type": "stream",
     "text": [
      "Using cpu device\n",
      "Wrapping the env with a `Monitor` wrapper\n",
      "Wrapping the env in a DummyVecEnv.\n",
      "Wrapping the env with a `Monitor` wrapper\n",
      "Wrapping the env in a DummyVecEnv.\n"
     ]
    }
   ],
   "source": [
    "opponent = MaxDamagePlayer()\n",
    "env_player = SimpleRLPlayer(opponent=opponent)\n",
    "\n",
    "model = A2C(\"MlpPolicy\", env_player, verbose=1)\n",
    "model = A2C.load(MODEL_PATH, env=env_player)"
   ]
  },
  {
   "cell_type": "code",
   "execution_count": 21,
   "metadata": {},
   "outputs": [
    {
     "name": "stdout",
     "output_type": "stream",
     "text": [
      "Won 4 battles against <__main__.MaxDamagePlayer object at 0x00000280AEAC2350>\n"
     ]
    }
   ],
   "source": [
    "finished_episodes = 0\n",
    "try:\n",
    "    env_player.reset_battles()\n",
    "except:\n",
    "    pass\n",
    "obs, _ = env_player.reset()\n",
    "while True:\n",
    "\n",
    "    action, _ = model.predict(obs, deterministic=True)\n",
    "    obs, reward, done, _, info = env_player.step(action)\n",
    "\n",
    "    if done:\n",
    "        finished_episodes += 1\n",
    "        obs, _ = env_player.reset()\n",
    "        if finished_episodes >= NB_EVALUATION_EPISODES:\n",
    "            break\n",
    "print(\"Won\", env_player.n_won_battles, \"battles against\", env_player._opponent)"
   ]
  },
  {
   "cell_type": "code",
   "execution_count": null,
   "metadata": {},
   "outputs": [],
   "source": []
  },
  {
   "cell_type": "code",
   "execution_count": null,
   "metadata": {},
   "outputs": [],
   "source": []
  }
 ],
 "metadata": {
  "kernelspec": {
   "display_name": ".venv",
   "language": "python",
   "name": "python3"
  },
  "language_info": {
   "codemirror_mode": {
    "name": "ipython",
    "version": 3
   },
   "file_extension": ".py",
   "mimetype": "text/x-python",
   "name": "python",
   "nbconvert_exporter": "python",
   "pygments_lexer": "ipython3",
   "version": "3.11.9"
  }
 },
 "nbformat": 4,
 "nbformat_minor": 2
}
